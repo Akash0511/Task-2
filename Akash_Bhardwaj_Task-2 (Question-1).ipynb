{
 "cells": [
  {
   "cell_type": "markdown",
   "metadata": {},
   "source": [
    "# Created by Akash Bhardwaj"
   ]
  },
  {
   "cell_type": "markdown",
   "metadata": {},
   "source": [
    "# Question - 1"
   ]
  },
  {
   "cell_type": "markdown",
   "metadata": {},
   "source": [
    "Ques:1 Which team has won/lost maximum number of matches while chasing?\n",
    "    "
   ]
  },
  {
   "cell_type": "markdown",
   "metadata": {},
   "source": [
    "    Team has won maximum number of matches while chasing"
   ]
  },
  {
   "cell_type": "code",
   "execution_count": 4,
   "metadata": {},
   "outputs": [],
   "source": [
    "import pandas as pd\n",
    "df = pd.read_csv(\"matches.csv\",parse_dates=['date'])\n",
    "normdf=df[df['result']=='normal']"
   ]
  },
  {
   "cell_type": "code",
   "execution_count": 6,
   "metadata": {},
   "outputs": [],
   "source": [
    "win_df=normdf[(normdf[\"toss_decision\"]==\"field\")&(normdf[\"toss_winner\"]==normdf[\"winner\"])|(normdf[\"toss_decision\"]==\"bat\")&(normdf[\"toss_winner\"]!=normdf[\"winner\"])]"
   ]
  },
  {
   "cell_type": "code",
   "execution_count": 7,
   "metadata": {},
   "outputs": [
    {
     "data": {
      "text/plain": [
       "Kolkata Knight Riders          58\n",
       "Mumbai Indians                 50\n",
       "Chennai Super Kings            49\n",
       "Royal Challengers Bangalore    48\n",
       "Rajasthan Royals               46\n",
       "Kings XI Punjab                43\n",
       "Delhi Daredevils               42\n",
       "Sunrisers Hyderabad            27\n",
       "Gujarat Lions                  12\n",
       "Deccan Chargers                11\n",
       "Delhi Capitals                  6\n",
       "Pune Warriors                   6\n",
       "Rising Pune Supergiant          5\n",
       "Rising Pune Supergiants         5\n",
       "Kochi Tuskers Kerala            4\n",
       "Name: winner, dtype: int64"
      ]
     },
     "execution_count": 7,
     "metadata": {},
     "output_type": "execute_result"
    }
   ],
   "source": [
    "win_df['winner'].value_counts()"
   ]
  },
  {
   "cell_type": "code",
   "execution_count": 14,
   "metadata": {},
   "outputs": [
    {
     "data": {
      "text/plain": [
       "Kolkata Knight Riders    58\n",
       "Name: winner, dtype: int64"
      ]
     },
     "execution_count": 14,
     "metadata": {},
     "output_type": "execute_result"
    }
   ],
   "source": [
    "win_df['winner'].value_counts().head(1)"
   ]
  },
  {
   "cell_type": "markdown",
   "metadata": {},
   "source": []
  },
  {
   "cell_type": "raw",
   "metadata": {},
   "source": [
    "    Team has lost maximum number of matches while chasing"
   ]
  },
  {
   "cell_type": "code",
   "execution_count": 8,
   "metadata": {},
   "outputs": [],
   "source": [
    "loss_df=normdf[(normdf[\"toss_decision\"]=='field')&(normdf[\"winner\"]!=normdf[\"toss_winner\"])|(normdf[\"toss_decision\"]=='bat')&(normdf[\"winner\"]!=normdf[\"toss_winner\"])]"
   ]
  },
  {
   "cell_type": "code",
   "execution_count": 16,
   "metadata": {},
   "outputs": [
    {
     "data": {
      "text/plain": [
       "Mumbai Indians                 52\n",
       "Kings XI Punjab                46\n",
       "Chennai Super Kings            43\n",
       "Royal Challengers Bangalore    43\n",
       "Kolkata Knight Riders          39\n",
       "Sunrisers Hyderabad            34\n",
       "Rajasthan Royals               32\n",
       "Delhi Daredevils               32\n",
       "Deccan Chargers                10\n",
       "Pune Warriors                   9\n",
       "Rising Pune Supergiant          5\n",
       "Gujarat Lions                   3\n",
       "Delhi Capitals                  3\n",
       "Rising Pune Supergiants         2\n",
       "Kochi Tuskers Kerala            2\n",
       "Name: winner, dtype: int64"
      ]
     },
     "execution_count": 16,
     "metadata": {},
     "output_type": "execute_result"
    }
   ],
   "source": [
    "loss_df['winner'].value_counts()"
   ]
  },
  {
   "cell_type": "code",
   "execution_count": 17,
   "metadata": {},
   "outputs": [
    {
     "data": {
      "text/plain": [
       "Mumbai Indians    52\n",
       "Name: winner, dtype: int64"
      ]
     },
     "execution_count": 17,
     "metadata": {},
     "output_type": "execute_result"
    }
   ],
   "source": [
    "loss_df['winner'].value_counts().head(1)"
   ]
  },
  {
   "cell_type": "markdown",
   "metadata": {},
   "source": []
  },
  {
   "cell_type": "markdown",
   "metadata": {},
   "source": [
    "Question - 2: Which toss decision is best for each ground?"
   ]
  },
  {
   "cell_type": "code",
   "execution_count": 9,
   "metadata": {},
   "outputs": [],
   "source": [
    "normdf=df[df['result']=='normal']\n",
    "count_field=normdf[(normdf[\"toss_decision\"]==\"field\")&(normdf[\"toss_winner\"]==normdf[\"winner\"])]\n",
    "count_field_result=count_field['venue'].value_counts()"
   ]
  },
  {
   "cell_type": "code",
   "execution_count": 11,
   "metadata": {},
   "outputs": [],
   "source": [
    "count_field_result_dict={}\n",
    "for i in range(0,len(count_field_result),1):\n",
    "    count_field_result_dict[count_field_result.index[i]]=count_field_result.iloc[i]\n",
    "\n",
    "count_bat=normdf[(normdf[\"toss_decision\"]==\"bat\")&(normdf[\"toss_winner\"]==normdf[\"winner\"])]\n",
    "count_bat_result=count_bat['venue'].value_counts()\n",
    "count_bat_result_dict={}\n",
    "for i in range(0,len(count_bat_result),1):\n",
    "    count_bat_result_dict[count_bat_result.index[i]]=count_bat_result.iloc[i]\n",
    "for key in count_field_result_dict.keys():\n",
    "    if key not in count_bat_result_dict.keys():\n",
    "        count_field_result_dict[key]=0\n"
   ]
  },
  {
   "cell_type": "code",
   "execution_count": 12,
   "metadata": {},
   "outputs": [
    {
     "name": "stdout",
     "output_type": "stream",
     "text": [
      "M Chinnaswamy Stadium good for field\n",
      "Eden Gardens good for field\n",
      "Wankhede Stadium good for field\n",
      "Feroz Shah Kotla good for field\n",
      "Sawai Mansingh Stadium good for field\n",
      "Rajiv Gandhi International Stadium, Uppal good for field\n",
      "Maharashtra Cricket Association Stadium good for field\n",
      "Punjab Cricket Association Stadium, Mohali good for field\n",
      "Holkar Cricket Stadium neutral decision\n",
      "Dr DY Patil Sports Academy good for field\n",
      "Punjab Cricket Association IS Bindra Stadium, Mohali good for field\n",
      "SuperSport Park good for field\n",
      "IS Bindra Stadium neutral decision\n",
      "MA Chidambaram Stadium, Chepauk good for bat\n",
      "Green Park neutral decision\n",
      "Himachal Pradesh Cricket Association Stadium good for field\n",
      "Saurashtra Cricket Association Stadium neutral decision\n",
      "New Wanderers Stadium neutral decision\n",
      "Kingsmead good for bat\n",
      "JSCA International Stadium Complex good for field\n",
      "Brabourne Stadium good for bat\n",
      "Barabati Stadium good for field\n",
      "M. A. Chidambaram Stadium good for field\n",
      "M. Chinnaswamy Stadium neutral decision\n",
      "Shaheed Veer Narayan Singh International Stadium good for field\n",
      "Sardar Patel Stadium, Motera good for bat\n",
      "ACA-VDCA Stadium neutral decision\n",
      "Sharjah Cricket Stadium neutral decision\n",
      "Dr. Y.S. Rajasekhara Reddy ACA-VDCA Cricket Stadium neutral decision\n",
      "Sheikh Zayed Stadium neutral decision\n",
      "Feroz Shah Kotla Ground neutral decision\n",
      "Dubai International Cricket Stadium good for field\n",
      "De Beers Diamond Oval neutral decision\n",
      "Nehru Stadium neutral decision\n",
      "OUTsurance Oval neutral decision\n",
      "Rajiv Gandhi Intl. Cricket Stadium neutral decision\n",
      "Newlands good for bat\n"
     ]
    }
   ],
   "source": [
    "count_data={}\n",
    "for key in count_field_result_dict.keys():\n",
    "    if key in count_bat_result_dict.keys():\n",
    "        count_data[key]=count_field_result_dict[key]-count_bat_result_dict[key]\n",
    "    else:\n",
    "        count_data[key]=count_field_result_dict[key]\n",
    "\n",
    "for key in count_data.keys():\n",
    "    if count_data[key]>0:\n",
    "        print(\"{} good for field\".format(key))\n",
    "    elif count_data[key]<0:\n",
    "        print(\"{} good for bat\".format(key))\n",
    "    else:\n",
    "        print(\"{} neutral decision\".format(key))"
   ]
  },
  {
   "cell_type": "markdown",
   "metadata": {},
   "source": []
  },
  {
   "cell_type": "markdown",
   "metadata": {},
   "source": [
    "Question - 3: Which player has won maximum number of MoM awards while chasing?"
   ]
  },
  {
   "cell_type": "code",
   "execution_count": 21,
   "metadata": {},
   "outputs": [],
   "source": [
    "ch = pd.concat([win_df, loss_df])"
   ]
  },
  {
   "cell_type": "code",
   "execution_count": 22,
   "metadata": {},
   "outputs": [
    {
     "data": {
      "text/plain": [
       "CH Gayle    22\n",
       "Name: player_of_match, dtype: int64"
      ]
     },
     "execution_count": 22,
     "metadata": {},
     "output_type": "execute_result"
    }
   ],
   "source": [
    "ch[\"player_of_match\"].value_counts().head(1)"
   ]
  },
  {
   "cell_type": "markdown",
   "metadata": {},
   "source": []
  },
  {
   "cell_type": "markdown",
   "metadata": {},
   "source": [
    "Question - 4: Which batsman has played maximum number of dot balls?"
   ]
  },
  {
   "cell_type": "code",
   "execution_count": 24,
   "metadata": {},
   "outputs": [],
   "source": [
    "vdf = pd.read_csv(\"deliveries.csv\")"
   ]
  },
  {
   "cell_type": "code",
   "execution_count": 25,
   "metadata": {},
   "outputs": [
    {
     "data": {
      "text/plain": [
       "batsman\n",
       "V Kohli    1369\n",
       "Name: batsman_runs, dtype: int64"
      ]
     },
     "execution_count": 25,
     "metadata": {},
     "output_type": "execute_result"
    }
   ],
   "source": [
    "Batsman_dotballs=vdf[vdf[\"extra_runs\"]==0].groupby(['batsman'])[\"batsman_runs\"].agg(lambda x: (x==0).sum()).sort_values(ascending=False)\n",
    "\n",
    "Batsman_dotballs.head(1)\n"
   ]
  },
  {
   "cell_type": "markdown",
   "metadata": {},
   "source": []
  },
  {
   "cell_type": "markdown",
   "metadata": {},
   "source": [
    "Question - 5: Which batsmen came to crease but never got a chance to face a ball?"
   ]
  },
  {
   "cell_type": "code",
   "execution_count": 37,
   "metadata": {},
   "outputs": [
    {
     "data": {
      "text/plain": [
       "array(['A Nel', 'C Ganapathy', 'TP Sudhindra', 'BW Hilfenhaus'],\n",
       "      dtype=object)"
      ]
     },
     "execution_count": 37,
     "metadata": {},
     "output_type": "execute_result"
    }
   ],
   "source": [
    "non_striker=vdf[~vdf.non_striker.isin(vdf.batsman)]\n",
    "non_striker['non_striker'].unique()"
   ]
  },
  {
   "cell_type": "markdown",
   "metadata": {},
   "source": []
  },
  {
   "cell_type": "markdown",
   "metadata": {},
   "source": [
    "Question - 6: Which bowler has hit for maximum number of 1s/2s/3s/4s/6s?"
   ]
  },
  {
   "cell_type": "code",
   "execution_count": 29,
   "metadata": {},
   "outputs": [
    {
     "data": {
      "text/plain": [
       "bowler\n",
       "PP Chawla    171\n",
       "Name: batsman_runs, dtype: int64"
      ]
     },
     "execution_count": 29,
     "metadata": {},
     "output_type": "execute_result"
    }
   ],
   "source": [
    "# for 6's\n",
    "bowler_hits_6 = vdf[vdf[\"batsman_runs\"]==6].groupby(['bowler'])[\"batsman_runs\"].agg(lambda x: (x==6).count()).sort_values()\n",
    "bowler_hits_6.tail(1)"
   ]
  },
  {
   "cell_type": "code",
   "execution_count": 30,
   "metadata": {},
   "outputs": [
    {
     "data": {
      "text/plain": [
       "bowler\n",
       "UT Yadav    384\n",
       "Name: batsman_runs, dtype: int64"
      ]
     },
     "execution_count": 30,
     "metadata": {},
     "output_type": "execute_result"
    }
   ],
   "source": [
    "# for 4's\n",
    "bowler_hits_4 = vdf[vdf[\"batsman_runs\"]==4].groupby(['bowler'])[\"batsman_runs\"].agg(lambda x: (x==4).count()).sort_values()\n",
    "bowler_hits_4.tail(1)"
   ]
  },
  {
   "cell_type": "code",
   "execution_count": 31,
   "metadata": {},
   "outputs": [
    {
     "data": {
      "text/plain": [
       "bowler\n",
       "P Kumar    16\n",
       "Name: batsman_runs, dtype: int64"
      ]
     },
     "execution_count": 31,
     "metadata": {},
     "output_type": "execute_result"
    }
   ],
   "source": [
    "# for 3's\n",
    "bowler_hits_3 = vdf[vdf[\"batsman_runs\"]==3].groupby(['bowler'])[\"batsman_runs\"].agg(lambda x: (x==3).count()).sort_values()\n",
    "bowler_hits_3.tail(1)"
   ]
  },
  {
   "cell_type": "code",
   "execution_count": 32,
   "metadata": {},
   "outputs": [
    {
     "data": {
      "text/plain": [
       "bowler\n",
       "A Mishra    232\n",
       "Name: batsman_runs, dtype: int64"
      ]
     },
     "execution_count": 32,
     "metadata": {},
     "output_type": "execute_result"
    }
   ],
   "source": [
    "# for 2's\n",
    "bowler_hits_2 = vdf[vdf[\"batsman_runs\"]==2].groupby(['bowler'])[\"batsman_runs\"].agg(lambda x: (x==2).count()).sort_values()\n",
    "bowler_hits_2.tail(1)"
   ]
  },
  {
   "cell_type": "code",
   "execution_count": 33,
   "metadata": {},
   "outputs": [
    {
     "data": {
      "text/plain": [
       "bowler\n",
       "Harbhajan Singh    1465\n",
       "Name: batsman_runs, dtype: int64"
      ]
     },
     "execution_count": 33,
     "metadata": {},
     "output_type": "execute_result"
    }
   ],
   "source": [
    "# for 1's\n",
    "bowler_hits_1 = vdf[vdf[\"batsman_runs\"]==1].groupby(['bowler'])[\"batsman_runs\"].agg(lambda x: (x==1).count()).sort_values()\n",
    "bowler_hits_1.tail(1)"
   ]
  },
  {
   "cell_type": "markdown",
   "metadata": {},
   "source": []
  },
  {
   "cell_type": "markdown",
   "metadata": {},
   "source": [
    "Question - 7: Which batsman got stumped out maximum number of times?"
   ]
  },
  {
   "cell_type": "code",
   "execution_count": 35,
   "metadata": {},
   "outputs": [
    {
     "data": {
      "text/plain": [
       "batsman   batsman \n",
       "SK Raina  SK Raina    8\n",
       "Name: batsman, dtype: int64"
      ]
     },
     "execution_count": 35,
     "metadata": {},
     "output_type": "execute_result"
    }
   ],
   "source": [
    "max_stump=vdf[vdf[\"dismissal_kind\"]=='stumped'].groupby(['batsman'])\n",
    "max_stump['batsman'].value_counts().sort_values(ascending=False).head(1)"
   ]
  },
  {
   "cell_type": "markdown",
   "metadata": {},
   "source": []
  },
  {
   "cell_type": "markdown",
   "metadata": {},
   "source": [
    "Question - 8: Which non-striker has been part of maximum number of runouts?"
   ]
  },
  {
   "cell_type": "code",
   "execution_count": 43,
   "metadata": {},
   "outputs": [
    {
     "data": {
      "text/plain": [
       "AB de Villiers    8\n",
       "Name: non_striker, dtype: int64"
      ]
     },
     "execution_count": 43,
     "metadata": {},
     "output_type": "execute_result"
    }
   ],
   "source": [
    "runout=vdf[(vdf[\"dismissal_kind\"]=='run out')&(vdf[\"non_striker\"]==vdf[\"player_dismissed\"])]\n",
    "runout['non_striker'].value_counts().sort_values().tail(1)"
   ]
  },
  {
   "cell_type": "markdown",
   "metadata": {},
   "source": []
  },
  {
   "cell_type": "markdown",
   "metadata": {},
   "source": [
    " Extra questions ->->->->"
   ]
  },
  {
   "cell_type": "markdown",
   "metadata": {},
   "source": [
    "Question:- Which season had the most number of matches?"
   ]
  },
  {
   "cell_type": "code",
   "execution_count": 52,
   "metadata": {},
   "outputs": [
    {
     "data": {
      "text/plain": [
       "season  season\n",
       "2013    2013      76\n",
       "Name: season, dtype: int64"
      ]
     },
     "execution_count": 52,
     "metadata": {},
     "output_type": "execute_result"
    }
   ],
   "source": [
    "df.groupby('season')['season'].value_counts().sort_values().tail(1)\n"
   ]
  },
  {
   "cell_type": "markdown",
   "metadata": {},
   "source": []
  },
  {
   "cell_type": "markdown",
   "metadata": {},
   "source": [
    "Question:- which team had won by maximum number of runs?"
   ]
  },
  {
   "cell_type": "code",
   "execution_count": 57,
   "metadata": {},
   "outputs": [
    {
     "data": {
      "text/plain": [
       "'Mumbai Indians'"
      ]
     },
     "execution_count": 57,
     "metadata": {},
     "output_type": "execute_result"
    }
   ],
   "source": [
    "df.loc[df['win_by_runs'].idxmax()]['winner']"
   ]
  },
  {
   "cell_type": "markdown",
   "metadata": {},
   "source": []
  },
  {
   "cell_type": "markdown",
   "metadata": {},
   "source": [
    "Question:- Which batsman have scored maximum score in IPL?"
   ]
  },
  {
   "cell_type": "code",
   "execution_count": 60,
   "metadata": {},
   "outputs": [
    {
     "data": {
      "text/plain": [
       "batsman\n",
       "V Kohli    5434\n",
       "Name: batsman_runs, dtype: int64"
      ]
     },
     "execution_count": 60,
     "metadata": {},
     "output_type": "execute_result"
    }
   ],
   "source": [
    "Batsman_score=vdf.groupby('batsman')[\"batsman_runs\"].agg(sum).sort_values()\n",
    "Batsman_score.tail(1)"
   ]
  },
  {
   "cell_type": "markdown",
   "metadata": {},
   "source": []
  },
  {
   "cell_type": "markdown",
   "metadata": {},
   "source": [
    "Question:- Which batsman got caught maximum number of times?"
   ]
  },
  {
   "cell_type": "code",
   "execution_count": 54,
   "metadata": {},
   "outputs": [
    {
     "data": {
      "text/plain": [
       "SK Raina    112\n",
       "Name: batsman, dtype: int64"
      ]
     },
     "execution_count": 54,
     "metadata": {},
     "output_type": "execute_result"
    }
   ],
   "source": [
    "batsman_caught_data=vdf[(vdf[\"dismissal_kind\"]=='caught')&(vdf[\"batsman\"]==vdf[\"player_dismissed\"])]\n",
    "batsman_caught_data['batsman'].value_counts().head(1)"
   ]
  },
  {
   "cell_type": "markdown",
   "metadata": {},
   "source": []
  },
  {
   "cell_type": "code",
   "execution_count": null,
   "metadata": {},
   "outputs": [],
   "source": [
    "Question:- Which batsman got lbw maximum number of times?"
   ]
  },
  {
   "cell_type": "code",
   "execution_count": 56,
   "metadata": {},
   "outputs": [
    {
     "data": {
      "text/plain": [
       "BB McCullum    16\n",
       "Name: batsman, dtype: int64"
      ]
     },
     "execution_count": 56,
     "metadata": {},
     "output_type": "execute_result"
    }
   ],
   "source": [
    "batsman_lbw_data=vdf[(vdf[\"dismissal_kind\"]=='lbw')&(vdf[\"batsman\"]==vdf[\"player_dismissed\"])]\n",
    "batsman_lbw_data['batsman'].value_counts().head(1)"
   ]
  },
  {
   "cell_type": "code",
   "execution_count": null,
   "metadata": {},
   "outputs": [],
   "source": []
  },
  {
   "cell_type": "code",
   "execution_count": null,
   "metadata": {},
   "outputs": [],
   "source": []
  }
 ],
 "metadata": {
  "kernelspec": {
   "display_name": "Python 3",
   "language": "python",
   "name": "python3"
  },
  "language_info": {
   "codemirror_mode": {
    "name": "ipython",
    "version": 3
   },
   "file_extension": ".py",
   "mimetype": "text/x-python",
   "name": "python",
   "nbconvert_exporter": "python",
   "pygments_lexer": "ipython3",
   "version": "3.7.3"
  }
 },
 "nbformat": 4,
 "nbformat_minor": 2
}
